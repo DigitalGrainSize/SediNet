{
 "cells": [
  {
   "cell_type": "markdown",
   "metadata": {
    "colab_type": "text",
    "id": "Mmv6E4xVrPKH"
   },
   "source": [
    "## Sedinet: predict sieve size"
   ]
  },
  {
   "cell_type": "markdown",
   "metadata": {
    "colab_type": "text",
    "id": "9q6xzJ6hrUSP"
   },
   "source": [
    "This Jupyter notebook accompanies the [SediNet](https://github.com/MARDAScience/SediNet) package\n",
    "\n",
    "Written by Daniel Buscombe, MARDA Science\n",
    "\n",
    "daniel@mardascience.com\n",
    "\n",
    "\n",
    "> Demonstration of how to use SediNet to estimate from an ensemble of three models to estimate equivalent sieve size, from a set of images of sieved sediment fractions\n",
    "\n",
    "If you are a cloud computer such as Colab, uncomment the line below to download the SediNet package from github:\n"
   ]
  },
  {
   "cell_type": "code",
   "execution_count": 0,
   "metadata": {
    "colab": {
     "base_uri": "https://localhost:8080/",
     "height": 54
    },
    "colab_type": "code",
    "executionInfo": {
     "elapsed": 1423,
     "status": "ok",
     "timestamp": 1564421877217,
     "user": {
      "displayName": "Daniel Buscombe",
      "photoUrl": "",
      "userId": "01832231008732716345"
     },
     "user_tz": 420
    },
    "id": "gHs5dUy8sxM-",
    "outputId": "55a217ff-fba5-42b1-dc33-d499ce437db4"
   },
   "outputs": [
    {
     "name": "stdout",
     "output_type": "stream",
     "text": [
      "fatal: destination path 'SediNet' already exists and is not an empty directory.\n"
     ]
    }
   ],
   "source": [
    "#!git clone --depth 1 https://github.com/MARDAScience/SediNet.git"
   ]
  },
  {
   "cell_type": "code",
   "execution_count": 7,
   "metadata": {
    "colab": {},
    "colab_type": "code",
    "id": "91QV0zqztBZD"
   },
   "outputs": [],
   "source": [
    "import os, json\n",
    "print(os.getcwd())\n",
    "os.chdir('..')"
   ]
  },
  {
   "cell_type": "code",
   "execution_count": 5,
   "metadata": {},
   "outputs": [
    {
     "data": {
      "text/plain": [
       "'C:\\\\Users\\\\ddb265\\\\github_clones\\\\SediNet\\\\notebooks'"
      ]
     },
     "execution_count": 5,
     "metadata": {},
     "output_type": "execute_result"
    }
   ],
   "source": [
    "print(os.getcwd())"
   ]
  },
  {
   "cell_type": "code",
   "execution_count": 28,
   "metadata": {},
   "outputs": [],
   "source": [
    "configfile = 'config/config_sievedsand_sieve_predict.json'"
   ]
  },
  {
   "cell_type": "code",
   "execution_count": 29,
   "metadata": {},
   "outputs": [],
   "source": [
    "weights_path = 'grain_size_sieved_sands/res/color/sievesand_sieve_siso_batch8_sieve__checkpoint.hdf5'"
   ]
  },
  {
   "cell_type": "code",
   "execution_count": 30,
   "metadata": {},
   "outputs": [],
   "source": [
    "from numpy import any as npany\n",
    "from sedinet_eval import *"
   ]
  },
  {
   "cell_type": "code",
   "execution_count": 31,
   "metadata": {},
   "outputs": [],
   "source": [
    "if not os.path.isfile(os.getcwd()+os.sep+weights_path):\n",
    "    if not os.path.isfile(weights_path):\n",
    "        print(\"Weights path does not exist ... exiting\")\n",
    "        sys.exit()\n",
    "\n",
    "try:\n",
    "   # load the user configs\n",
    "   with open(os.getcwd()+os.sep+configfile) as f:\n",
    "        config = json.load(f)\n",
    "except:\n",
    "   # load the user configs\n",
    "   with open(configfile) as f:\n",
    "        config = json.load(f)  "
   ]
  },
  {
   "cell_type": "code",
   "execution_count": 32,
   "metadata": {},
   "outputs": [
    {
     "name": "stdout",
     "output_type": "stream",
     "text": [
      "Mode: siso\n"
     ]
    }
   ],
   "source": [
    "csvfile = config[\"csvfile\"] #csvfile containing image names and class values\n",
    "res_folder = config[\"res_folder\"] #folder containing csv file and that will contain model outputs\n",
    "name = config[\"name\"] #name prefix for output files\n",
    "greyscale = config[\"greyscale\"] #convert imagery to greyscale or not\n",
    "dropout = config[\"dropout\"] \n",
    "\n",
    "try:\n",
    "    numclass = config['numclass']\n",
    "except:\n",
    "    numclass = 0\n",
    "\n",
    "vars = [k for k in config.keys() if not npany([k.startswith('csvfile'), k.startswith('dropout'), k.startswith('base'), k.startswith('res_folder'), k.startswith('train_csvfile'), k.startswith('test_csvfile'), k.startswith('name'), k.startswith('greyscale'), k.startswith('aux_in'), k.startswith('N'), k.startswith('numclass')])]\n",
    "\n",
    "vars = sorted(vars)\n",
    "\n",
    "auxin = [k for k in config.keys() if k.startswith('aux_in')]\n",
    "\n",
    "if len(auxin) > 0:\n",
    "    auxin = config[auxin[0]]   ##at least for now, just one 'auxilliary' (numerical/categorical) input in addition to imagery\n",
    "    if len(vars) ==1:\n",
    "        mode = 'miso'\n",
    "    elif len(vars) >1:\n",
    "        mode = 'mimo'\n",
    "else:\n",
    "    if len(vars) ==1:\n",
    "        mode = 'siso'\n",
    "    elif len(vars) >1:\n",
    "        mode = 'simo'\n",
    "\n",
    "print(\"Mode: %s\" % (mode)) "
   ]
  },
  {
   "cell_type": "code",
   "execution_count": 33,
   "metadata": {},
   "outputs": [
    {
     "name": "stderr",
     "output_type": "stream",
     "text": [
      "C:\\Users\\ddb265\\AppData\\Local\\Continuum\\anaconda3\\envs\\sedinet\\lib\\site-packages\\sklearn\\utils\\deprecation.py:143: FutureWarning: The sklearn.preprocessing.data module is  deprecated in version 0.22 and will be removed in version 0.24. The corresponding classes / functions should instead be imported from sklearn.preprocessing. Anything that cannot be imported from sklearn.preprocessing is now part of the private API.\n",
      "  warnings.warn(message, FutureWarning)\n",
      "C:\\Users\\ddb265\\AppData\\Local\\Continuum\\anaconda3\\envs\\sedinet\\lib\\site-packages\\sklearn\\base.py:334: UserWarning: Trying to unpickle estimator RobustScaler from version 0.21.3 when using version 0.23.1. This might lead to breaking code or invalid results. Use at your own risk.\n",
      "  UserWarning)\n"
     ]
    },
    {
     "name": "stdout",
     "output_type": "stream",
     "text": [
      "==========================================\n",
      "[INFORMATION] Model summary:\n"
     ]
    }
   ],
   "source": [
    "csvfile = res_folder+os.sep+csvfile\n",
    "\n",
    "if (mode=='siso' or mode=='simo'):\n",
    "    if numclass>0:\n",
    "        estimate_categorical(vars, csvfile, res_folder, dropout, numclass, greyscale, weights_path)\n",
    "    else:\n",
    "        estimate_siso_simo(vars, csvfile, greyscale, weights_path, dropout)\n",
    "\n",
    "if (mode=='miso' or mode=='mimo'):\n",
    "     estimate_miso_mimo(vars, csvfile, greyscale, auxin, weights_path, dropout)\n"
   ]
  },
  {
   "cell_type": "markdown",
   "metadata": {
    "colab_type": "text",
    "id": "8lggiKFIvfGY"
   },
   "source": [
    "If you are in Google Colab, to view the file you just made, go to tn the File tab over on the left, expand SediNet, and you'll see the png file called `sievesand_sieve_siso_batch8_sieve__checkpoint_predict.png`"
   ]
  },
  {
   "cell_type": "markdown",
   "metadata": {},
   "source": [
    "Otherwise, head to `grain_size_sieved_sands\\res\\color` and you'll see the `sievesand_sieve_siso_batch8_sieve__checkpoint_predict.png` file"
   ]
  },
  {
   "cell_type": "markdown",
   "metadata": {},
   "source": []
  }
 ],
 "metadata": {
  "colab": {
   "collapsed_sections": [],
   "name": "SediNet_Continuous_Sieve.ipynb",
   "provenance": [],
   "toc_visible": true,
   "version": "0.3.2"
  },
  "kernelspec": {
   "display_name": "Python 3",
   "language": "python",
   "name": "python3"
  },
  "language_info": {
   "codemirror_mode": {
    "name": "ipython",
    "version": 3
   },
   "file_extension": ".py",
   "mimetype": "text/x-python",
   "name": "python",
   "nbconvert_exporter": "python",
   "pygments_lexer": "ipython3",
   "version": "3.6.10"
  }
 },
 "nbformat": 4,
 "nbformat_minor": 1
}
