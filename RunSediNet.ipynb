{
 "cells": [
  {
   "cell_type": "markdown",
   "metadata": {},
   "source": [
    "# SediNet: compute sieve size"
   ]
  },
  {
   "cell_type": "markdown",
   "metadata": {},
   "source": [
    "Demonstration of SediNet using [Panel](https://panel.pyviz.org/index.html)"
   ]
  },
  {
   "cell_type": "code",
   "execution_count": null,
   "metadata": {},
   "outputs": [],
   "source": [
    "from file_select import FileBrowser\n",
    "from PIL import Image\n",
    "import random"
   ]
  },
  {
   "cell_type": "code",
   "execution_count": null,
   "metadata": {},
   "outputs": [],
   "source": [
    "import sys\n",
    "#sys.path.append('../')\n",
    "from sedinet_models import *\n",
    "import panel as pn\n",
    "pn.extension()\n",
    "#import ipywidgets as widgets"
   ]
  },
  {
   "cell_type": "code",
   "execution_count": null,
   "metadata": {},
   "outputs": [],
   "source": []
  },
  {
   "cell_type": "code",
   "execution_count": null,
   "metadata": {},
   "outputs": [],
   "source": [
    "configfile = 'config_sievedsand_sieve.json'"
   ]
  },
  {
   "cell_type": "code",
   "execution_count": null,
   "metadata": {},
   "outputs": [],
   "source": [
    "import json\n",
    "# load the user configs\n",
    "with open('config'+os.sep+configfile) as f:    \n",
    "  config = json.load(f) \n",
    "\n",
    "###===================================================\n",
    "## user defined variables: proportion of data to use for training (a.k.a. the \"train/test split\")\n",
    "base    = int(config[\"base\"]) #minimum number of convolutions in a sedinet convolutional block\n",
    "csvfile = config[\"csvfile\"] #csvfile containing image names and class values\n",
    "res_folder = config[\"res_folder\"] #folder containing csv file and that will contain model outputs\n",
    "name = config[\"name\"] #name prefix for output files\n",
    "dropout = float(config[\"dropout\"]) \n",
    "add_bn = bool(config[\"add_bn\"]) \n",
    "\n",
    "vars = [k for k in config.keys() if not np.any([k.startswith('base'), k.startswith('res_folder'), k.startswith('csvfile'), k.startswith('name'), k.startswith('dropout'), k.startswith('add_bn')])]\n",
    "\n",
    "vars = sorted(vars)\n",
    "\n",
    "###==================================================\n",
    "\n",
    "csvfile = os.path.abspath(os.getcwd()+os.sep+res_folder+os.sep+csvfile)"
   ]
  },
  {
   "cell_type": "code",
   "execution_count": null,
   "metadata": {},
   "outputs": [],
   "source": [
    "#csvfile"
   ]
  },
  {
   "cell_type": "code",
   "execution_count": null,
   "metadata": {},
   "outputs": [],
   "source": [
    "## read the data set in, clean and modify the pathnames so they are absolute\n",
    "df = pd.read_csv(csvfile)\n",
    "df['files'] = [k.strip() for k in df['files']]\n",
    "df['files'] = [os.getcwd()+os.sep+f.replace('\\\\',os.sep) for f in df['files']]    "
   ]
  },
  {
   "cell_type": "code",
   "execution_count": null,
   "metadata": {},
   "outputs": [],
   "source": [
    "models = []\n",
    "for base in [base-2,base,base+2]:\n",
    "  weights_path = name+\"_base\"+str(base)+\"_model_checkpoint.hdf5\"\n",
    "  ##==============================================\n",
    "  ## create a SediNet model to estimate sediment category\n",
    "  model = make_cont_sedinet(base, vars, add_bn, dropout)\n",
    "  model.load_weights(os.getcwd()+os.sep+'res'+os.sep+res_folder+os.sep+weights_path)\n",
    "  models.append(model)"
   ]
  },
  {
   "cell_type": "code",
   "execution_count": null,
   "metadata": {},
   "outputs": [],
   "source": [
    "def get_image():\n",
    "    #get a random image\n",
    "    n = random.choice((67364561,67447491,67449081,59858041,94974311,65614911))\n",
    "    img = 'https://www.allaboutbirds.org/guide/assets/photo/{n}-1280px.jpg'.format(n=n)\n",
    "    return img\n",
    "\n",
    "def get_grainsize():\n",
    "    \n",
    "    im = Image.open(file_input.value).convert('LA')\n",
    "    im = im.resize((IM_HEIGHT, IM_HEIGHT))\n",
    "    im = np.array(im) / 255.0    \n",
    "    im2 = np.rot90(im)         \n",
    "    im = np.expand_dims(np.hstack((im[:,:,0], im2[:,:,0])),axis=2) \n",
    "    im = np.expand_dims(im, axis=0)\n",
    "\n",
    "    for v in vars:\n",
    "      exec(v+'_PT = []')\n",
    "     \n",
    "    for model in models:   \n",
    "      tmp = model.predict(im, batch_size=1)\n",
    "      exec(vars[0]+'_PT.append(np.asarray(np.squeeze(tmp)))') #.argmax(axis=-1))')\n",
    "\n",
    "    exec(vars[0]+'_predT = np.squeeze(np.mean(np.asarray('+vars[0]+'_PT), axis=0))')\n",
    "\n",
    "    Text.object = 'Grain size: '+str(eval(vars[0]+'_predT'))+' microns'\n",
    "    return Text, Text2\n",
    "\n",
    "def get_plot():\n",
    "    im = Image.open(file_input.value)#.convert('LA')\n",
    "    im = np.array(im) / 255.0    \n",
    "    plot = plt.imshow(im)\n",
    "    return plot\n",
    "\n",
    "def show_message():\n",
    "    Text2.object = 'Calculated grain size for '+file_input.value +'.....'\n",
    "    return Text2\n",
    "\n",
    "def update(event):\n",
    "    Text2 = show_message()\n",
    "    jpg_panel.object = file_input.value \n",
    "    Text = get_grainsize()\n",
    "    \n",
    "##=====    \n",
    "title = pn.pane.HTML('<h2> SediNet: compute sieve size</h2>')\n",
    "\n",
    "imfile = 'MardaScience_logo_circle.JPG'\n",
    "#setup the logo pane\n",
    "logo = pn.pane.JPG(get_image(), width=100)\n",
    "logo.object = imfile\n",
    "\n",
    "update_btn = pn.widgets.Button(name='Calculate Grain Size!',width=100,button_type='primary')\n",
    "s = pn.pane.HTML('<h5>Compute equivalent sieve diameters directly from an image, without the need for area-to-mass conversion formulas and without even knowing the scale of one pixel. This demonstration has been implemented using a a small population of beach sands</h5>')\n",
    "file_input = pn.widgets.FileInput()\n",
    "file_input = pn.widgets.Select(name='Select an image file:', options=list(df.files.values))\n",
    "\n",
    "Text = pn.panel('Grain size:', width=200, height=60)\n",
    "\n",
    "Text2 = pn.panel('', width=200, height=60)\n",
    "    \n",
    "#setup the jpg pane\n",
    "jpg_panel = pn.pane.JPG(get_image(), width=300)\n",
    "jpg_panel.object = file_input.value \n",
    "\n",
    "footer = pn.pane.HTML('<h6>Demonstration of SediNet using Panel. Written by Daniel Buscombe, MARDA Science</h6>')\n",
    "\n",
    "#watch associates a button click with the update function\n",
    "update_btn.param.watch(update, 'clicks')\n",
    "#add the widgets to panes\n",
    "top = pn.Row(file_input) \n",
    "mid = pn.Row(update_btn)\n",
    "\n",
    "app = pn.Column(title, logo, s, top,mid,jpg_panel, Text2, Text,footer)\n",
    "app.show()"
   ]
  },
  {
   "cell_type": "code",
   "execution_count": null,
   "metadata": {},
   "outputs": [],
   "source": []
  }
 ],
 "metadata": {
  "kernelspec": {
   "display_name": "Python 3",
   "language": "python",
   "name": "python3"
  },
  "language_info": {
   "codemirror_mode": {
    "name": "ipython",
    "version": 3
   },
   "file_extension": ".py",
   "mimetype": "text/x-python",
   "name": "python",
   "nbconvert_exporter": "python",
   "pygments_lexer": "ipython3",
   "version": "3.7.5"
  }
 },
 "nbformat": 4,
 "nbformat_minor": 2
}
